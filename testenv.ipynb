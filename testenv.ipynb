{
 "cells": [
  {
   "cell_type": "code",
   "execution_count": 1,
   "id": "8361fdab-8f79-434a-bf49-f930c871e644",
   "metadata": {},
   "outputs": [
    {
     "name": "stderr",
     "output_type": "stream",
     "text": [
      "\u001b[1m\u001b[33m[robosuite WARNING] \u001b[0mNo private macro file found! (macros.py:53)\n",
      "\u001b[1m\u001b[33m[robosuite WARNING] \u001b[0mIt is recommended to use a private macro file (macros.py:54)\n",
      "\u001b[1m\u001b[33m[robosuite WARNING] \u001b[0mTo setup, run: python /home/gp/anaconda3/envs/sleepnvs/lib/python3.10/site-packages/robosuite/scripts/setup_macros.py (macros.py:55)\n"
     ]
    }
   ],
   "source": [
    "import numpy as np\n",
    "import imageio\n",
    "# from sheeprl.envs.robosuite_zero_wmask import RobosuiteEnvZerowMask\n",
    "from sheeprl.envs.robosuite_zero import RobosuiteEnvZero\n"
   ]
  },
  {
   "cell_type": "code",
   "execution_count": 2,
   "id": "8bb0d17a-e8dc-474a-a91c-bd35797caf1b",
   "metadata": {},
   "outputs": [
    {
     "name": "stdout",
     "output_type": "stream",
     "text": [
      "\n",
      "============= Initialized Observation Utils with Obs Spec =============\n",
      "\n",
      "using obs modality: rgb with keys: ['robot0_eye_in_hand_image', 'agentview_image']\n",
      "using obs modality: low_dim with keys: ['robot0_eef_quat', 'robot0_eef_pos', 'robot0_gripper_qpos', 'object']\n",
      "SDS distillation only, disabling some functionality...\n"
     ]
    },
    {
     "name": "stderr",
     "output_type": "stream",
     "text": [
      "/home/gp/.local/lib/python3.10/site-packages/torch/__init__.py:1117: FutureWarning: `torch.distributed.reduce_op` is deprecated, please use `torch.distributed.ReduceOp` instead\n",
      "  return isinstance(obj, torch.Tensor)\n",
      "/home/gp/sleeperagent/ZeroNVS/zeronvs_diffusion/zero123/ldm/models/diffusion/ddpm.py:145: FutureWarning: `torch.distributed.reduce_op` is deprecated, please use `torch.distributed.ReduceOp` instead\n",
      "  hasattr(obj, \"data\") and torch.is_tensor(obj.data)\n"
     ]
    },
    {
     "name": "stdout",
     "output_type": "stream",
     "text": [
      "LatentDiffusion: Running in eps-prediction mode\n",
      "DiffusionWrapper has 859.53 M params.\n",
      "Keeping EMAs of 688.\n",
      "making attention of type 'vanilla' with 512 in_channels\n",
      "Working with z of shape (1, 4, 32, 32) = 4096 dimensions.\n",
      "making attention of type 'vanilla' with 512 in_channels\n"
     ]
    }
   ],
   "source": [
    "import time\n",
    "# env = RobosuiteEnvZerowMask(camera_height=128, camera_width=128, channels_first=False, observation_type='rgb_zero', azm_degs=[-30])\n",
    "env = RobosuiteEnvZero(camera_height=128, camera_width=128, channels_first=False, observation_type='rgb_zero', azm_degs=[-30])\n",
    "obs = env.reset()"
   ]
  },
  {
   "cell_type": "code",
   "execution_count": 3,
   "id": "95b556b7-0ee7-4120-97e1-39f53552d4ab",
   "metadata": {},
   "outputs": [
    {
     "name": "stdout",
     "output_type": "stream",
     "text": [
      "FPS: 1.988430166340371\n"
     ]
    }
   ],
   "source": [
    "frames = []\n",
    "start = time.time()\n",
    "for step in range(100):\n",
    "    \n",
    "    action = env.action_space.sample() \n",
    "    obs, reward, done, truncated, info = env.step(action)\n",
    "    frame = env.render()\n",
    "    \n",
    "    # if frame is not None:\n",
    "    frames.append(frame)\n",
    "    \n",
    "    if done or truncated:\n",
    "        obs = env.reset()\n",
    "        \n",
    "print(f\"FPS: {100/(time.time() - start)}\")\n",
    "env.close()\n",
    "\n",
    "video_path = \"tt_video1.mp4\"\n",
    "imageio.mimsave(video_path, frames, fps=5)"
   ]
  },
  {
   "cell_type": "code",
   "execution_count": null,
   "id": "67a395ac-056d-45d9-b877-884e5a5aa5d7",
   "metadata": {},
   "outputs": [],
   "source": [
    "video_path = \"test_video2.mp4\"\n",
    "imageio.mimsave(video_path, frames, fps=5)"
   ]
  },
  {
   "cell_type": "code",
   "execution_count": null,
   "id": "6ff98caa-f196-47d6-bb70-92865c60b3c2",
   "metadata": {},
   "outputs": [],
   "source": [
    "obs"
   ]
  },
  {
   "cell_type": "code",
   "execution_count": null,
   "id": "468f2cbc-c3b7-4d06-b90f-b6b414aa491c",
   "metadata": {},
   "outputs": [],
   "source": [
    "frame = env.render()"
   ]
  },
  {
   "cell_type": "code",
   "execution_count": null,
   "id": "a06c06ad-113a-4a44-be77-0128bc39d67b",
   "metadata": {},
   "outputs": [],
   "source": [
    ".shape"
   ]
  },
  {
   "cell_type": "code",
   "execution_count": null,
   "id": "562cf75e-273e-49cd-ab11-8625f524c997",
   "metadata": {},
   "outputs": [],
   "source": []
  }
 ],
 "metadata": {
  "kernelspec": {
   "display_name": "Python 3 (ipykernel)",
   "language": "python",
   "name": "python3"
  },
  "language_info": {
   "codemirror_mode": {
    "name": "ipython",
    "version": 3
   },
   "file_extension": ".py",
   "mimetype": "text/x-python",
   "name": "python",
   "nbconvert_exporter": "python",
   "pygments_lexer": "ipython3",
   "version": "3.10.16"
  }
 },
 "nbformat": 4,
 "nbformat_minor": 5
}
