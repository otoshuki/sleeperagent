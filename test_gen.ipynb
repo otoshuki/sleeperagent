{
 "cells": [
  {
   "cell_type": "code",
   "execution_count": 1,
   "id": "98203e7d-90c2-4e9b-84aa-f985909c925b",
   "metadata": {},
   "outputs": [],
   "source": [
    "import sys\n",
    "import os\n",
    "from PIL import Image\n",
    "import IPython.display as display\n",
    "from IPython.display import clear_output\n",
    "sys.path.append(os.path.abspath(\"ZeroNVS\"))\n",
    "from zero123gen import Zero123Generator"
   ]
  },
  {
   "cell_type": "code",
   "execution_count": 2,
   "id": "d4ab1697-eed8-44ed-bf8d-3d9c5da8c5ce",
   "metadata": {},
   "outputs": [],
   "source": [
    "device = \"cuda\"\n",
    "config_path = \"ZeroNVS/zeronvs_config.yaml\"\n",
    "ckpt_path = \"ZeroNVS/zeronvs.ckpt\"\n",
    "precomputed_scale = 1.0"
   ]
  },
  {
   "cell_type": "code",
   "execution_count": 3,
   "id": "e04c7c38-2e17-4d2f-a1ad-baf9866943f7",
   "metadata": {},
   "outputs": [
    {
     "name": "stderr",
     "output_type": "stream",
     "text": [
      "/home/gp/.local/lib/python3.10/site-packages/torch/__init__.py:1117: FutureWarning: `torch.distributed.reduce_op` is deprecated, please use `torch.distributed.ReduceOp` instead\n",
      "  return isinstance(obj, torch.Tensor)\n",
      "/home/gp/sleeperagent/ZeroNVS/zeronvs_diffusion/zero123/ldm/models/diffusion/ddpm.py:145: FutureWarning: `torch.distributed.reduce_op` is deprecated, please use `torch.distributed.ReduceOp` instead\n",
      "  hasattr(obj, \"data\") and torch.is_tensor(obj.data)\n"
     ]
    },
    {
     "name": "stdout",
     "output_type": "stream",
     "text": [
      "LatentDiffusion: Running in eps-prediction mode\n",
      "DiffusionWrapper has 859.53 M params.\n",
      "Keeping EMAs of 688.\n",
      "making attention of type 'vanilla' with 512 in_channels\n",
      "Working with z of shape (1, 4, 32, 32) = 4096 dimensions.\n",
      "making attention of type 'vanilla' with 512 in_channels\n"
     ]
    }
   ],
   "source": [
    "generator = Zero123Generator(config_path, ckpt_path, device, precomputed_scale, dont_eval=True)"
   ]
  },
  {
   "cell_type": "code",
   "execution_count": 4,
   "id": "7cea8d22-df48-4af6-a67d-a4b4d9b4fe1b",
   "metadata": {},
   "outputs": [],
   "source": [
    "import torch\n",
    "import torch.nn as nn\n",
    "\n",
    "class LoRALinear(nn.Module):\n",
    "    def __init__(self, base_layer, r=4, alpha=1.0):\n",
    "        super().__init__()\n",
    "        self.base = base_layer\n",
    "        self.r = r\n",
    "        self.alpha = alpha\n",
    "        self.scaling = alpha / r\n",
    "\n",
    "        self.lora_A = nn.Linear(base_layer.in_features, r, bias=False)\n",
    "        self.lora_B = nn.Linear(r, base_layer.out_features, bias=False)\n",
    "        nn.init.zeros_(self.lora_B.weight)\n",
    "\n",
    "    def forward(self, x):\n",
    "        return self.base(x) + self.scaling * self.lora_B(self.lora_A(x))"
   ]
  },
  {
   "cell_type": "code",
   "execution_count": 5,
   "id": "15aebdcb-ab71-4885-9e90-e8e33b0f3904",
   "metadata": {},
   "outputs": [],
   "source": [
    "def inject_lora_crossattn(model, r=4, alpha=1.0):\n",
    "    from ldm.modules.attention import CrossAttention, BasicTransformerBlock\n",
    "\n",
    "    def wrap_lora(module, name):\n",
    "        orig = getattr(module, name)\n",
    "        if not isinstance(orig, LoRALinear):\n",
    "            setattr(module, name, LoRALinear(orig, r=r, alpha=alpha))\n",
    "\n",
    "    model = model.model.diffusion_model  # UNetModel\n",
    "\n",
    "    for name, module in model.named_modules():\n",
    "        # if isinstance(module, CrossAttention) and \".attn2\" in name:\n",
    "        # if isinstance(module, CrossAttention):\n",
    "        if isinstance(module, BasicTransformerBlock):\n",
    "            ca = module.attn2\n",
    "            wrap_lora(ca, \"to_q\")\n",
    "            wrap_lora(ca, \"to_k\")\n",
    "            wrap_lora(ca, \"to_v\")\n",
    "            #Disable checkpointing\n",
    "            module.checkpoint = False  \n",
    "\n",
    "#Inject it only in certain blocks and disable checkpointing for that\n",
    "            #Does not work well\n",
    "# def inject_lora_crossattn(model, r=4, alpha=1.0, target_block_ids=range(10, 16)):\n",
    "#     from ldm.modules.attention import CrossAttention, BasicTransformerBlock\n",
    "\n",
    "#     def wrap_lora(module, name):\n",
    "#         orig = getattr(module, name)\n",
    "#         if not isinstance(orig, LoRALinear):\n",
    "#             setattr(module, name, LoRALinear(orig, r=r, alpha=alpha))\n",
    "\n",
    "#     model = model.model.diffusion_model  # UNetModel\n",
    "#     block_idx = 0\n",
    "\n",
    "#     for name, module in model.named_modules():\n",
    "#         if isinstance(module, BasicTransformerBlock):\n",
    "#             if \"input_block\" in name:\n",
    "#                 ca = module.attn2\n",
    "#                 wrap_lora(ca, \"to_q\")\n",
    "#                 wrap_lora(ca, \"to_k\")\n",
    "#                 wrap_lora(ca, \"to_v\")\n",
    "#                 module.checkpoint = False  \n",
    "#             block_idx += 1"
   ]
  },
  {
   "cell_type": "code",
   "execution_count": 6,
   "id": "3b857328-bf41-4db5-a3d6-357ae7df3e56",
   "metadata": {},
   "outputs": [],
   "source": [
    "def freeze_except_lora(model):\n",
    "    for name, param in model.named_parameters():\n",
    "        if \"lora_\" in name.lower():\n",
    "            param.requires_grad = True\n",
    "        else:\n",
    "            param.requires_grad = False"
   ]
  },
  {
   "cell_type": "code",
   "execution_count": 7,
   "id": "272eb91b-ff15-46a3-b114-b91d952a2d9d",
   "metadata": {},
   "outputs": [],
   "source": [
    "def print_trainable_layers(model):\n",
    "    print(\"Trainable parameters list:\\n\")\n",
    "    total_trainable_parameters = 0\n",
    "    for name, param in model.named_parameters():\n",
    "        if param.requires_grad:\n",
    "            total_trainable_parameters += param.numel()\n",
    "            print(f\"{name} | shape: {tuple(param.shape)}\")\n",
    "    print(f\"Total trainable parameters: {total_trainable_parameters}\")"
   ]
  },
  {
   "cell_type": "code",
   "execution_count": 8,
   "id": "ada33d64-e240-44f4-a43b-f2d0343bfb53",
   "metadata": {},
   "outputs": [
    {
     "name": "stdout",
     "output_type": "stream",
     "text": [
      "False\n",
      "False\n",
      "False\n",
      "False\n",
      "False\n",
      "False\n",
      "False\n",
      "False\n",
      "False\n",
      "False\n",
      "False\n",
      "False\n",
      "False\n",
      "False\n",
      "False\n",
      "False\n"
     ]
    }
   ],
   "source": [
    "#Add LoRA layers to the crossattention layers specifically in diffusion model\n",
    "#If full generator.model is used, it will apply it to other parts of the model too\n",
    "inject_lora_crossattn(generator.model)\n",
    "\n",
    "#Now move model to cuda and eval\n",
    "generator.model = generator.model.to(device).eval()\n",
    "\n",
    "#Freeze all layers except LoRA layers\n",
    "freeze_except_lora(generator.model)\n",
    "\n",
    "#Just print the modules which has checkpoint enabled or disabled for sanity check: Should be false everywhere\n",
    "#Note that if checkpoint for downstream is on the gradients cannot feed backwards to the middle LoRA layers\n",
    "for module in generator.model.model.diffusion_model.modules():\n",
    "    if hasattr(module, 'checkpoint'):\n",
    "        print(module.checkpoint)"
   ]
  },
  {
   "cell_type": "code",
   "execution_count": 9,
   "id": "55fabf7f-948a-4c3d-800b-4146444883dc",
   "metadata": {},
   "outputs": [],
   "source": [
    "#Print trainable params\n",
    "# print_trainable_layers(generator.model)"
   ]
  },
  {
   "cell_type": "code",
   "execution_count": 10,
   "id": "b0c88a57-0941-486c-b23f-386c52891cfc",
   "metadata": {},
   "outputs": [],
   "source": [
    "import torch.nn.functional as F\n",
    "from tqdm import tqdm\n",
    "\n",
    "def train_ldm_latent_regression(generator, dataloader, optimizer, device=\"cuda\", epochs=10, ddim_steps=10, scale=7.5):\n",
    "    model = generator.model\n",
    "    scheduler = generator.scheduler\n",
    "    scheduler.set_timesteps(ddim_steps)\n",
    "    lambda_img = 0.7\n",
    "    model.train()\n",
    "    for epoch in range(epochs):\n",
    "        tot_loss = 0\n",
    "        num_batches = 0\n",
    "        for batch in tqdm(dataloader):\n",
    "            num_batches += 1\n",
    "            # Prepare conditioning\n",
    "            cond = batch[\"cond\"]\n",
    "            cond[\"c_crossattn\"][0] = cond[\"c_crossattn\"][0].flatten(0, 1).detach().to(device)\n",
    "            cond[\"c_concat\"][0] = cond[\"c_concat\"][0].flatten(0, 1).detach().to(device)\n",
    "            z_target = batch[\"z_target\"].detach().to(device)\n",
    "            \n",
    "            B = z_target.shape[0]\n",
    "\n",
    "            # Start from Gaussian noise\n",
    "            latents = torch.randn_like(z_target)\n",
    "\n",
    "            # Denoise using same logic as inference (no guidance)\n",
    "            for t in scheduler.timesteps:\n",
    "                x_in = torch.cat([latents] * 2)\n",
    "                t_in = torch.cat([t.reshape(1).repeat(B)] * 2).to(device)\n",
    "                noise_pred = model.apply_model(x_in, t_in, cond)\n",
    "                noise_pred_uncond, noise_pred_cond = noise_pred.chunk(2) \n",
    "                # noise_pred = noise_pred_uncond + scale * (noise_pred_cond - noise_pred_uncond)\n",
    "                noise_pred = noise_pred_cond\n",
    "                latents = scheduler.step(noise_pred, t, latents)[\"prev_sample\"]\n",
    "            # Regression loss between final denoised latent and target latent\n",
    "            loss_latent = F.mse_loss(latents, z_target)\n",
    "            \n",
    "            with torch.no_grad():\n",
    "                #Another loss for pixel level update\n",
    "                x_target = model.decode_first_stage(z_target).clamp(-1, 1)\n",
    "            x_pred = model.decode_first_stage(latents).clamp(-1, 1)\n",
    "            loss_image = F.mse_loss(x_pred, x_target)\n",
    "            \n",
    "            loss = loss_latent + lambda_img * loss_image\n",
    "            optimizer.zero_grad()\n",
    "            loss.backward()\n",
    "            optimizer.step()\n",
    "            tot_loss += loss\n",
    "\n",
    "        print(f\"Epoch {epoch}: Loss = {tot_loss.item()/num_batches:.4f}\")"
   ]
  },
  {
   "cell_type": "code",
   "execution_count": 11,
   "id": "fab94e90-9871-4915-830a-f00222b759f5",
   "metadata": {},
   "outputs": [],
   "source": [
    "import math\n",
    "\n",
    "def generate_camera_pose(elv, azm, cam_dist):\n",
    "    elv = torch.FloatTensor([elv]) * math.pi / 180\n",
    "    azm = torch.FloatTensor([azm]) * math.pi / 180\n",
    "    cam_pos: Float[Tensor, \"1 3\"] = torch.stack(\n",
    "        [\n",
    "            cam_dist * torch.cos(elv) * torch.cos(azm),\n",
    "            cam_dist * torch.cos(elv) * torch.sin(azm),\n",
    "            cam_dist * torch.sin(elv),\n",
    "        ],\n",
    "        dim=-1,\n",
    "    )\n",
    "    center: Float[Tensor, \"1 3\"] = torch.zeros_like(cam_pos)\n",
    "    up: Float[Tensor, \"1 3\"] = torch.as_tensor([0, 0, 1], dtype=torch.float32)[\n",
    "        None\n",
    "    ]\n",
    "    lookat: Float[Tensor, \"1 3\"] = F.normalize(center - cam_pos, dim=-1)\n",
    "    right: Float[Tensor, \"1 3\"] = F.normalize(torch.cross(lookat, up, dim=-1), dim=-1)\n",
    "    up = F.normalize(torch.cross(right, lookat, dim=-1), dim=-1)\n",
    "    c2w_3x4: Float[Tensor, \"1 3 4\"] = torch.cat(\n",
    "        [\n",
    "            torch.stack([right, up, -lookat], dim=-1),\n",
    "            cam_pos[:, :, None],\n",
    "        ],\n",
    "        dim=-1,\n",
    "    )\n",
    "    bottom_row = torch.tensor([0, 0, 0, 1], dtype=torch.float32).view(1, 1, 4)\n",
    "    c2w = torch.cat([c2w_3x4, bottom_row], dim=1)\n",
    "    return c2w"
   ]
  },
  {
   "cell_type": "code",
   "execution_count": 14,
   "id": "ee8c0008-760c-4b8e-8772-9e823c80ac3c",
   "metadata": {},
   "outputs": [],
   "source": [
    "#Load files\n",
    "import numpy as np\n",
    "orig_images = []\n",
    "orig_elevations = []\n",
    "orig_azimuths = []\n",
    "orig_cam_dists = []\n",
    "\n",
    "ref_images = []\n",
    "# ref_elevations = \n",
    "# ref_azimuths = [60]*4\n",
    "# ref_cam_dists = [10]*4\n",
    "for env_id in range(10):\n",
    "    for frame_count in range(100): #Just using first 100 frames\n",
    "        filename = f\"data/run_{env_id}_{frame_count}_orig_img.npy\"\n",
    "        with open(filename, 'rb') as f:\n",
    "            orig_images.append(torch.from_numpy(np.load(f)).to(device))\n",
    "        filename = f\"data/run_{env_id}_{frame_count}_orig_elevations.npy\"\n",
    "        with open(filename, 'rb') as f:\n",
    "            orig_elevations.append(np.load(f).item())\n",
    "        filename = f\"data/run_{env_id}_{frame_count}_orig_azimuths.npy\"\n",
    "        with open(filename, 'rb') as f:\n",
    "            orig_azimuths.append(np.load(f).item())\n",
    "        filename = f\"data/run_{env_id}_{frame_count}_orig_cam_dists.npy\"\n",
    "        with open(filename, 'rb') as f:\n",
    "            orig_cam_dists.append(np.load(f).item())\n",
    "        filename = f\"data/run_{env_id}_{frame_count}_ref_img.npy\"\n",
    "        with open(filename, 'rb') as f:\n",
    "            ref_images.append(torch.from_numpy(np.load(f)).to(device))\n",
    "    "
   ]
  },
  {
   "cell_type": "code",
   "execution_count": 15,
   "id": "5979a901-3868-4a85-b7d7-09ce75d1dfad",
   "metadata": {},
   "outputs": [],
   "source": [
    "ref_elevations = [45]*len(ref_images)\n",
    "ref_azimuths = [170]*len(ref_images)\n",
    "ref_cam_dists = [1.2]*len(ref_images)"
   ]
  },
  {
   "cell_type": "code",
   "execution_count": 16,
   "id": "c9e201b4-4c7e-4ca4-8d8c-36760fb5bc8e",
   "metadata": {},
   "outputs": [
    {
     "name": "stderr",
     "output_type": "stream",
     "text": [
      "1000it [00:30, 32.82it/s]\n"
     ]
    }
   ],
   "source": [
    "#Create Dataset\n",
    "#Collect original and reference images, original and reference camera elevation and azimuth\n",
    "dataset = []\n",
    "fovy = torch.deg2rad(torch.FloatTensor([60]))\n",
    "for orig_img, orig_elv, orig_azm, orig_cam_dist, ref_img, ref_elv, ref_azm, ref_cam_dist in tqdm(zip(orig_images, orig_elevations, orig_azimuths, orig_cam_dists, ref_images, ref_elevations, ref_azimuths, ref_cam_dists)):\n",
    "    orig_c_crossattn, orig_c_concat = generator.encode_image(orig_img) \n",
    "    orig_c2w = generate_camera_pose(orig_elv, orig_azm, orig_cam_dist)\n",
    "    _, ref_c_concat = generator.encode_image(ref_img)\n",
    "    ref_c2w = generate_camera_pose(ref_elv, ref_azm, ref_cam_dist)\n",
    "    #Immediately generate conditioning\n",
    "    cond = generator.make_condition(orig_c_crossattn.squeeze(0).detach(), orig_c_concat.squeeze(0).detach(), ref_c2w.detach(), orig_c2w.detach(), fovy.detach())\n",
    "    data = {}\n",
    "    # cond[\"c_concat\"][0] = cond[\"c_concat\"][0].to(\"cpu\")\n",
    "    # cond[\"c_crossattn\"][0] = cond[\"c_crossattn\"][0].to(\"cpu\")\n",
    "    data[\"cond\"] = cond\n",
    "    data[\"z_target\"] = ref_c_concat.squeeze(0).detach()\n",
    "    dataset.append(data)"
   ]
  },
  {
   "cell_type": "code",
   "execution_count": 17,
   "id": "22817789-10b4-47fb-bba1-75ab9da42f6e",
   "metadata": {},
   "outputs": [],
   "source": [
    "from torch.utils.data import DataLoader\n",
    "dataloader = DataLoader(dataset, batch_size=1, shuffle=True, num_workers=0)"
   ]
  },
  {
   "cell_type": "code",
   "execution_count": 18,
   "id": "118862d7-fce6-42a0-ad43-0f2f6aa3a820",
   "metadata": {},
   "outputs": [],
   "source": [
    "#Set up optimizer\n",
    "from torch.optim import AdamW\n",
    "optimizer = AdamW(\n",
    "    filter(lambda p: p.requires_grad, generator.model.parameters()),\n",
    "    # generator.model.parameters(),\n",
    "    lr=1e-5,\n",
    "    weight_decay=0.01\n",
    ")"
   ]
  },
  {
   "cell_type": "code",
   "execution_count": null,
   "id": "de6322bc-7f92-4775-b762-ff90a497a9c3",
   "metadata": {},
   "outputs": [
    {
     "name": "stderr",
     "output_type": "stream",
     "text": [
      "100%|███████████████████████████████████████| 1000/1000 [07:59<00:00,  2.09it/s]\n"
     ]
    },
    {
     "name": "stdout",
     "output_type": "stream",
     "text": [
      "Epoch 0: Loss = 51.5078\n"
     ]
    },
    {
     "name": "stderr",
     "output_type": "stream",
     "text": [
      "100%|███████████████████████████████████████| 1000/1000 [08:01<00:00,  2.08it/s]\n"
     ]
    },
    {
     "name": "stdout",
     "output_type": "stream",
     "text": [
      "Epoch 1: Loss = 47.1570\n"
     ]
    },
    {
     "name": "stderr",
     "output_type": "stream",
     "text": [
      "100%|███████████████████████████████████████| 1000/1000 [08:01<00:00,  2.08it/s]\n"
     ]
    },
    {
     "name": "stdout",
     "output_type": "stream",
     "text": [
      "Epoch 2: Loss = 40.4591\n"
     ]
    },
    {
     "name": "stderr",
     "output_type": "stream",
     "text": [
      " 11%|████▍                                   | 111/1000 [00:53<07:07,  2.08it/s]"
     ]
    }
   ],
   "source": [
    "train_ldm_latent_regression(generator, dataloader, optimizer, device=\"cuda\", epochs=50, ddim_steps=10)"
   ]
  },
  {
   "cell_type": "code",
   "execution_count": 30,
   "id": "8d00ed99-945d-4d0c-9e10-56bf5c7a9754",
   "metadata": {},
   "outputs": [
    {
     "name": "stdout",
     "output_type": "stream",
     "text": [
      "Input\n"
     ]
    },
    {
     "data": {
      "image/jpeg": "[encoded data removed]",
      "image/png": "[encoded data removed]",
      "text/plain": [
       "<PIL.Image.Image image mode=RGB size=128x128>"
      ]
     },
     "metadata": {},
     "output_type": "display_data"
    },
    {
     "name": "stdout",
     "output_type": "stream",
     "text": [
      "Ref\n"
     ]
    },
    {
     "data": {
      "image/jpeg": "[encoded data removed]",
      "image/png": "[encoded data removed]",
      "text/plain": [
       "<PIL.Image.Image image mode=RGB size=128x128>"
      ]
     },
     "metadata": {},
     "output_type": "display_data"
    },
    {
     "name": "stdout",
     "output_type": "stream",
     "text": [
      "tensor(8.2660, device='cuda:0', grad_fn=<MseLossBackward0>)\n",
      "Output\n"
     ]
    },
    {
     "data": {
      "image/jpeg": "[encoded data removed]",
      "image/png": "[encoded data removed]",
      "text/plain": [
       "<PIL.Image.Image image mode=RGB size=128x128>"
      ]
     },
     "metadata": {},
     "output_type": "display_data"
    }
   ],
   "source": [
    "#Test\n",
    "import cv2\n",
    "# image = generator.get_image(image_path)\n",
    "img_id = 0\n",
    "print(\"Input\")\n",
    "imm = orig_images[img_id]\n",
    "imm = (imm * 0.5 + 0.5).clamp(0, 1).to(torch.float32).detach().cpu().numpy().transpose(0, 2, 3, 1)\n",
    "resized_image = cv2.resize(imm.squeeze(0), (128, 128))\n",
    "resized_image = (resized_image*255).astype(np.uint8)\n",
    "display.display(Image.fromarray(resized_image))\n",
    "print(\"Ref\")\n",
    "imm = ref_images[img_id]\n",
    "imm = (imm * 0.5 + 0.5).clamp(0, 1).to(torch.float32).detach().cpu().numpy().transpose(0, 2, 3, 1)\n",
    "resized_image = cv2.resize(imm.squeeze(0), (128, 128))\n",
    "resized_image = (resized_image*255).astype(np.uint8)\n",
    "display.display(Image.fromarray(resized_image))\n",
    "\n",
    "#Generate image\n",
    "batch = dataset[img_id]\n",
    "cond = batch[\"cond\"]\n",
    "#Changes to conditioning\n",
    "cond[\"c_crossattn\"][0] = cond[\"c_crossattn\"][0].detach().to(device)\n",
    "cond[\"c_concat\"][0] = cond[\"c_concat\"][0].detach().to(device)\n",
    "#Obtain target_latent\n",
    "z_target = batch[\"z_target\"].detach().to(device)\n",
    "B = cond[\"c_crossattn\"][0].shape[0] // 2\n",
    "latents = torch.randn((B, 4, 32, 32), device=device)\n",
    "generator.scheduler.set_timesteps(10)\n",
    "for t in generator.scheduler.timesteps:\n",
    "    x_in = torch.cat([latents] * 2)\n",
    "    t_in = torch.cat([t.reshape(1).repeat(B)] * 2).to(device)\n",
    "    noise_pred = generator.model.apply_model(x_in, t_in, cond)\n",
    "    noise_pred_uncond, noise_pred_cond = noise_pred.chunk(2)\n",
    "    # noise_pred = noise_pred_uncond + 5 * (noise_pred_cond - noise_pred_uncond)\n",
    "    #I trained only on conditioned inputs\n",
    "    noise_pred = noise_pred_cond\n",
    "    latents = generator.scheduler.step(noise_pred, t, latents)[\"prev_sample\"]\n",
    "print(F.mse_loss(latents.squeeze(0), z_target))\n",
    "# latents = generator.generate_latents(orig_images[img_id], gen_azm=[170], gen_elv=10, gen_camera_distance=1.2, default_elv=orig_elevations[img_id], default_azm=orig_azimuths[img_id], default_camera_distance=orig_cam_dists[img_id], scale=7.5, ddim_steps=10)\n",
    "images = generator.decode_latents(latents)\n",
    "print(\"Output\")\n",
    "for im in images:\n",
    "    display.display(Image.fromarray(im))"
   ]
  },
  {
   "cell_type": "code",
   "execution_count": null,
   "id": "8353baae-fd94-4e0d-931f-c8c9a9c01bba",
   "metadata": {},
   "outputs": [],
   "source": [
    "generator.model.num_timesteps = 10"
   ]
  },
  {
   "cell_type": "code",
   "execution_count": null,
   "id": "9883416b-91d2-4ac0-93e6-79f486a2e9d2",
   "metadata": {},
   "outputs": [],
   "source": [
    "generator.model.num_timesteps"
   ]
  },
  {
   "cell_type": "code",
   "execution_count": null,
   "id": "859f068c-6399-4643-9107-8d180f2d9191",
   "metadata": {},
   "outputs": [],
   "source": [
    "batch = dataset[1]\n",
    "cond = batch[\"cond\"]\n",
    "print(cond[\"c_crossattn\"][0].shape)\n",
    "#Changes to conditioning\n",
    "cond[\"c_crossattn\"][0] = cond[\"c_crossattn\"][0].flatten(0,1).detach().to(device)\n",
    "cond[\"c_concat\"][0] = cond[\"c_concat\"][0].flatten(0,1).detach().to(device)\n",
    "#Obtain target_latent\n",
    "z_target = batch[\"z_target\"].detach().to(device)"
   ]
  },
  {
   "cell_type": "code",
   "execution_count": null,
   "id": "88d884e6-dd7a-4917-80e0-de916678a29a",
   "metadata": {},
   "outputs": [],
   "source": [
    "cond[\"c_concat\"][0].shape"
   ]
  },
  {
   "cell_type": "code",
   "execution_count": null,
   "id": "2d644b48-052d-4948-8a79-186153b849e9",
   "metadata": {},
   "outputs": [],
   "source": [
    "np.mean(np.square(im.flatten(),resized_image.flatten()))"
   ]
  },
  {
   "cell_type": "code",
   "execution_count": null,
   "id": "4778ca2f-a239-4872-ae3d-732c125a307e",
   "metadata": {},
   "outputs": [],
   "source": [
    "torch.save(generator.model.state_dict(), \"ZeroNVS/finetuned2_zeronvs.ckpt\")"
   ]
  },
  {
   "cell_type": "code",
   "execution_count": null,
   "id": "7d793d9d-bd4e-4963-abe8-a6e750d08455",
   "metadata": {},
   "outputs": [],
   "source": [
    "del generator"
   ]
  },
  {
   "cell_type": "code",
   "execution_count": null,
   "id": "cafac55a-75ae-40f0-9d04-121943b9dd35",
   "metadata": {},
   "outputs": [],
   "source": [
    "del dataset"
   ]
  },
  {
   "cell_type": "code",
   "execution_count": null,
   "id": "a59d9026-7956-4905-96ac-b418054d5fab",
   "metadata": {},
   "outputs": [],
   "source": [
    "print(torch.cuda.memory_summary(device=\"cuda\"))"
   ]
  },
  {
   "cell_type": "code",
   "execution_count": null,
   "id": "daadae6b-79a5-49f8-9d0b-d904da2e8d45",
   "metadata": {},
   "outputs": [],
   "source": []
  }
 ],
 "metadata": {
  "kernelspec": {
   "display_name": "Python 3 (ipykernel)",
   "language": "python",
   "name": "python3"
  },
  "language_info": {
   "codemirror_mode": {
    "name": "ipython",
    "version": 3
   },
   "file_extension": ".py",
   "mimetype": "text/x-python",
   "name": "python",
   "nbconvert_exporter": "python",
   "pygments_lexer": "ipython3",
   "version": "3.10.16"
  }
 },
 "nbformat": 4,
 "nbformat_minor": 5
}
